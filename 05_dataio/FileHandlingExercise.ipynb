{
 "metadata": {
  "name": "",
  "signature": "sha256:8fc25d8d1a39bdd87a6961e87cf300ea8c1a68faa9d184065b9fa2bfb6d2064a"
 },
 "nbformat": 3,
 "nbformat_minor": 0,
 "worksheets": [
  {
   "cells": [
    {
     "cell_type": "heading",
     "level": 1,
     "metadata": {},
     "source": [
      "Exercise: reading FASTA files"
     ]
    },
    {
     "cell_type": "markdown",
     "metadata": {},
     "source": [
      "The [FASTA](http://en.wikipedia.org/wiki/FASTA_format)-format is a text-based format for nucleotide and protein sequences. A FASTA File begins with a single line description which is indicated by a leading \">\".\n",
      "\n",
      "Example:\n",
      "\n",
      "> \\>gi|31563518|ref|NP_852610.1| microtubule-associated proteins 1A/1B light chain 3A isoform b [Homo sapiens] MKMRFFSSPCGKAAVDPADRCKEVQQIRDQHPSKIPVIIERYKGEKQLPVLDKTKFLVPDHVNMSELVKIIRRRLQLNPTQAFFLLVNQHSMVSVSTPIADIYEQEKDEDGFLYMVYASQETFGFIRENE\n",
      "\n",
      "* parse the nucleotide sequence in the file `GPD1_seq.fasta` (omit the description line)\n",
      "* write a function `compute_nt_composition( sequence )`, which returns a dictionary containing the number of ocurrences for each base in a given sequence\n",
      "* compute the nucleotide composition of the GDP1 protein and pickle the result to a file\n"
     ]
    },
    {
     "cell_type": "code",
     "collapsed": false,
     "input": [
      "import cPickle as pickle\n",
      "\n",
      "with open('GPD1_seq.fasta', 'r') as f:\n",
      "    lines = f.readlines()\n",
      "    \n",
      "seq = ''\n",
      "for l in lines:\n",
      "    if l.startswith('>'):\n",
      "        continue\n",
      "    seq += l.strip()\n",
      "#print seq\n",
      "\n",
      "def compute_nt_composition( sequence ):\n",
      "    d = { nt: 0 for nt in \"GATC\" } # initialize dictionary\n",
      "    \n",
      "    for base in sequence:\n",
      "        d[base] += 1 \n",
      "    return d\n",
      "\n",
      "\n",
      "gpd1_nt_composition = compute_nt_composition( seq )\n",
      "with open('gpd1_nt_composition.p', 'w') as outfile:\n",
      "    pickle.dump( gpd1_nt_composition, outfile )"
     ],
     "language": "python",
     "metadata": {},
     "outputs": [],
     "prompt_number": 9
    }
   ],
   "metadata": {}
  }
 ]
}