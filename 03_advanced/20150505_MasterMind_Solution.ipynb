{
 "cells": [
  {
   "cell_type": "markdown",
   "metadata": {},
   "source": [
    "# Master Mind - Solution\n",
    "### Taken from Stack Overflow, modified by Jens Hahn\n",
    "#### http://stackoverflow.com/questions/15648407/python-mastermind-game-troubles"
   ]
  },
  {
   "cell_type": "code",
   "execution_count": null,
   "metadata": {
    "collapsed": false
   },
   "outputs": [],
   "source": [
    "import random\n",
    "\n",
    "class Mastermind:\n",
    "    def __init__(self):\n",
    "        self.main()\n",
    "        \n",
    "    def main(self):\n",
    "        print '>> New game started.\\n>> Good luck!\\n'\n",
    "        answer = self.generateAnswer()\n",
    "        while True:\n",
    "            userGuess = self.getUserGuess()\n",
    "            if userGuess == answer:\n",
    "                print '>> Congratulations, you won!'\n",
    "                return\n",
    "            else: \n",
    "                print '>> The answer you provided is incorrect.\\n>> Perhaps this hint will help you: '\n",
    "                self.giveFeedback(answer, userGuess)\n",
    "\n",
    "    def generateAnswer(self):\n",
    "        digits = [str(x) for x in range(10)]\n",
    "        answer = ''\n",
    "        for i in range(4):\n",
    "            digit = random.sample(digits, 1)[0]\n",
    "            digits.remove(digit)\n",
    "            answer += digit\n",
    "        return answer\n",
    "\n",
    "    def getUserGuess(self):\n",
    "        while True:\n",
    "            guess = raw_input('>> Please enter a 4-digit number: ').strip()\n",
    "            if len(guess) != 4:\n",
    "                continue\n",
    "            guessIsValid = True\n",
    "            for x in guess:\n",
    "                if guess.count(x) != 1 or ord(x) not in range(48, 58):\n",
    "                    guessIsValid = False\n",
    "                    break\n",
    "            if guessIsValid:\n",
    "                return guess\n",
    "\n",
    "    def giveFeedback(self, answer, guess):\n",
    "        for i in range(4):\n",
    "            if guess[i] == answer[i]:\n",
    "                print 'X',\n",
    "                continue\n",
    "            if guess[i] in answer:\n",
    "                print 'O',\n",
    "                continue\n",
    "            print '-',\n",
    "        print '\\n'\n",
    "\n",
    "if __name__ == '__main__':\n",
    "    mm = Mastermind()"
   ]
  }
 ],
 "metadata": {
  "kernelspec": {
   "display_name": "Python 2",
   "language": "python",
   "name": "python2"
  },
  "language_info": {
   "codemirror_mode": {
    "name": "ipython",
    "version": 2
   },
   "file_extension": ".py",
   "mimetype": "text/x-python",
   "name": "python",
   "nbconvert_exporter": "python",
   "pygments_lexer": "ipython2",
   "version": "2.7.9"
  }
 },
 "nbformat": 4,
 "nbformat_minor": 0
}
