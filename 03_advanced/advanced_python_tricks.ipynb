{
 "cells": [
  {
   "cell_type": "markdown",
   "metadata": {
    "slideshow": {
     "slide_type": "slide"
    }
   },
   "source": [
    "# Retrospective  \n",
    "\n",
    "- Interpreter\n",
    "- Basic Calculations\n",
    "- Data Structures\n",
    "- Control flow\n",
    "- Functions\n",
    "- Documentation\n",
    "- Objects\n",
    "- Modules"
   ]
  },
  {
   "cell_type": "markdown",
   "metadata": {
    "slideshow": {
     "slide_type": "slide"
    }
   },
   "source": [
    "# Packages\n",
    "\n",
    "Packages are folders containing Modules. If you are lucky, these modules also work together in a way. The folder needs to contain an `__init__.py` file that will tell python what to do with the package."
   ]
  },
  {
   "cell_type": "markdown",
   "metadata": {
    "slideshow": {
     "slide_type": "fragment"
    }
   },
   "source": [
    "## Pypi\n",
    "\n",
    "Python has a very active development community and the [**Py**thon **p**ackage **i**ndex](www.pypi.python.org) contains a myriad of packages for every need."
   ]
  },
  {
   "cell_type": "markdown",
   "metadata": {
    "slideshow": {
     "slide_type": "fragment"
    }
   },
   "source": [
    "These can be install by using `pip` which is installed with newer python versions:\n",
    "```\n",
    "pip install numpy\n",
    "```"
   ]
  },
  {
   "cell_type": "markdown",
   "metadata": {
    "slideshow": {
     "slide_type": "slide"
    }
   },
   "source": [
    "# Object Orientation\n",
    "\n",
    "![](http://www.codercaste.com/wp-content/uploads/2011/01/animals.png)"
   ]
  },
  {
   "cell_type": "markdown",
   "metadata": {
    "slideshow": {
     "slide_type": "subslide"
    }
   },
   "source": [
    "# Programming Paradigms\n",
    "\n",
    "![](http://academic.udayton.edu/SaverioPerugini/courses/cps343/lecture_notes/images/summary.png)"
   ]
  },
  {
   "cell_type": "markdown",
   "metadata": {
    "slideshow": {
     "slide_type": "slide"
    }
   },
   "source": [
    "# Object orientation in Python\n",
    "\n",
    "- everything is a object (even functions)\n",
    "\n",
    "You can define your own objects by using the `class` keyword:"
   ]
  },
  {
   "cell_type": "code",
   "execution_count": null,
   "metadata": {
    "collapsed": false,
    "slideshow": {
     "slide_type": "fragment"
    }
   },
   "outputs": [],
   "source": [
    "class Dog(object):\n",
    "    color = \"yellow\"\n",
    "    def __init__(self, name):\n",
    "            self.name = name\n",
    "            \n",
    "Dog"
   ]
  },
  {
   "cell_type": "markdown",
   "metadata": {
    "slideshow": {
     "slide_type": "subslide"
    }
   },
   "source": [
    "# Instances\n",
    "\n",
    "Classes can be used to create objects with certain attributes and behavior:"
   ]
  },
  {
   "cell_type": "code",
   "execution_count": null,
   "metadata": {
    "collapsed": false,
    "slideshow": {
     "slide_type": "fragment"
    }
   },
   "outputs": [],
   "source": [
    "class Dog(object):\n",
    "    color = \"yellow\"\n",
    "    def __init__(self, name, size):\n",
    "            self.name = name\n",
    "            self.size = size\n",
    "\n",
    "Dog(\"blitzer\", 100)"
   ]
  },
  {
   "cell_type": "markdown",
   "metadata": {
    "slideshow": {
     "slide_type": "subslide"
    }
   },
   "source": [
    "# Inheritance\n",
    "\n",
    "Classes can take inherit traits (and even **skills**) from other classes:"
   ]
  },
  {
   "cell_type": "code",
   "execution_count": null,
   "metadata": {
    "collapsed": true,
    "slideshow": {
     "slide_type": "fragment"
    }
   },
   "outputs": [],
   "source": [
    "class Dachshund(dog):\n",
    "    color = \"brownish\"\n",
    "    def __init__(self, name):\n",
    "        super(dachs, self).__init__(name, 20)\n",
    "        \n",
    "b = Dachshund()"
   ]
  },
  {
   "cell_type": "markdown",
   "metadata": {},
   "source": [
    "# Further Tricks"
   ]
  },
  {
   "cell_type": "markdown",
   "metadata": {},
   "source": [
    "###zipping unzipping lists and iterables"
   ]
  },
  {
   "cell_type": "code",
   "execution_count": null,
   "metadata": {
    "collapsed": false
   },
   "outputs": [],
   "source": [
    "A = [1, 2, 3]\n",
    "B = ['a', 'b', 'c']\n",
    "z = zip(A, B)\n",
    "print \"zipping: \", z\n",
    "print \"unzipping: \", zip(*z)"
   ]
  },
  {
   "cell_type": "markdown",
   "metadata": {},
   "source": [
    "## dictionaries"
   ]
  },
  {
   "cell_type": "markdown",
   "metadata": {},
   "source": [
    "###creating dictionaries"
   ]
  },
  {
   "cell_type": "code",
   "execution_count": null,
   "metadata": {
    "collapsed": false
   },
   "outputs": [],
   "source": [
    "# dictionary comprehension\n",
    "name_space = \"a\",\"b\",\"c\",\"d\",\"e\"\n",
    "dictionary = {name_space[x]: x**2 for x in range(len(name_space))}\n",
    "print \"dictionary comprenecion: \", dictionary"
   ]
  },
  {
   "cell_type": "code",
   "execution_count": null,
   "metadata": {
    "collapsed": false
   },
   "outputs": [],
   "source": [
    "# creating a dictionary using zip function\n",
    "dictionary = dict(zip(['A', 'B', 'C'], [1, 2, 3]))\n",
    "print \"dictionary: \", dictionary"
   ]
  },
  {
   "cell_type": "code",
   "execution_count": null,
   "metadata": {
    "collapsed": false
   },
   "outputs": [],
   "source": [
    "# default dictionary\n",
    "from collections import defaultdict\n",
    "default_dict = defaultdict(int)\n",
    "default_dict['a'] += 1  # increasing the value of key \"a\" directly during the initialisation of the key\n",
    "print \"default dictionary: \", default_dict\n",
    "\n",
    "# normal dictionary initialisation\n",
    "no_default = dict()\n",
    "no_default['a'] += 1"
   ]
  },
  {
   "cell_type": "markdown",
   "metadata": {},
   "source": [
    "### inverting dictionaries"
   ]
  },
  {
   "cell_type": "code",
   "execution_count": null,
   "metadata": {
    "collapsed": false
   },
   "outputs": [],
   "source": [
    "dictionary = dict(a=1, b=2, c=3)  # normal dict generation\n",
    "print \"dictionary: \", dictionary\n",
    "\n",
    "# inverting dictionary using zip function\n",
    "inverted_dict = dict(zip(dictionary.values(), dictionary.keys()))\n",
    "print \"inverted dict: \", inverted_dict"
   ]
  },
  {
   "cell_type": "markdown",
   "metadata": {},
   "source": [
    "### ordered dictionaries"
   ]
  },
  {
   "cell_type": "code",
   "execution_count": null,
   "metadata": {
    "collapsed": false
   },
   "outputs": [],
   "source": [
    "from collections import OrderedDict\n",
    "ordered_dict = OrderedDict((name_space[x], x**2) for x in range(len(name_space)))\n",
    "print \"ordered dictionary: \", ordered_dict"
   ]
  },
  {
   "cell_type": "markdown",
   "metadata": {},
   "source": [
    "## itertools"
   ]
  },
  {
   "cell_type": "markdown",
   "metadata": {},
   "source": [
    "### Cartesian Product"
   ]
  },
  {
   "cell_type": "code",
   "execution_count": null,
   "metadata": {
    "collapsed": false
   },
   "outputs": [],
   "source": [
    "import itertools\n",
    "for pro in itertools.product([1,2,3], [4,5]):\n",
    "    print \"cartesian product: \", pro"
   ]
  },
  {
   "cell_type": "code",
   "execution_count": null,
   "metadata": {
    "collapsed": false
   },
   "outputs": [],
   "source": [
    "import itertools\n",
    "for c in itertools.combinations([1,2,3],2):\n",
    "    print \"combinations: \", c"
   ]
  },
  {
   "cell_type": "code",
   "execution_count": null,
   "metadata": {
    "collapsed": false
   },
   "outputs": [],
   "source": [
    "import itertools\n",
    "for c in itertools.combinations_with_replacement([1,2,3],2):\n",
    "    print \"combinations with replacement: \", c"
   ]
  },
  {
   "cell_type": "code",
   "execution_count": null,
   "metadata": {
    "collapsed": false
   },
   "outputs": [],
   "source": [
    "import itertools\n",
    "for p in itertools.permutations([1,2,3]):\n",
    "    print \"permutations: \", p"
   ]
  },
  {
   "cell_type": "markdown",
   "metadata": {},
   "source": [
    "## sliding windows"
   ]
  },
  {
   "cell_type": "code",
   "execution_count": null,
   "metadata": {
    "collapsed": false
   },
   "outputs": [],
   "source": [
    "import itertools\n",
    "def k_mer(word, size):\n",
    "    z = (itertools.islice(word, i, None) for i in range(size))\n",
    "    return zip(*z)\n",
    "\n",
    "string = \"HelloWorld\"\n",
    "k_mer(string,3)"
   ]
  },
  {
   "cell_type": "markdown",
   "metadata": {},
   "source": [
    "##flatting Lists"
   ]
  },
  {
   "cell_type": "code",
   "execution_count": null,
   "metadata": {
    "collapsed": false
   },
   "outputs": [],
   "source": [
    "import itertools\n",
    "a_list = [[1,2],[3,4],[5,6]]\n",
    "a_flatted_list = []\n",
    "for x in itertools.chain.from_iterable(a_list):\n",
    "    a_flatted_list.append(x)\n",
    "print \"a_flattedlist: \", a_flattedlist\n",
    "\n",
    "b_flatted_list = [x for x in itertools.chain.from_iterable(a_list)]\n",
    "print \"b_flatted_list: \", b_flatted_list\n",
    "\n",
    "\n",
    "c_flatted_list = [x for i in alist for x in i]\n",
    "print \"c_flatted_list: \", c_flatted_list\n"
   ]
  },
  {
   "cell_type": "code",
   "execution_count": null,
   "metadata": {
    "collapsed": false
   },
   "outputs": [],
   "source": [
    "import itertools\n",
    "a_list = [[[1, 2], [3, 4]], [[5, 6], [7, 8]]]\n",
    "a_flatted_list = [x for x in itertools.chain.from_iterable(a_list)]\n",
    "print \"a_flatted_list: \", a_flatted_list\n",
    "\n",
    "#flatten = lambda x: [x for i in x for y in flatten(i)] if isinstance(x, list) else [x]\n",
    "\n",
    "#flatten = lambda x: [y for l in x for y in flatten(l)] if type(x) is list else [x]\n",
    "\n",
    "#flatten = lambda x: [y for l in x for y in flatten(l)] if isinstance(x, list) else [x]\n",
    "\n",
    "#d_flatted_list = flatten1(a_list)\n",
    "#print d_flatted_li"
   ]
  },
  {
   "cell_type": "markdown",
   "metadata": {},
   "source": [
    "## Copy"
   ]
  },
  {
   "cell_type": "markdown",
   "metadata": {},
   "source": [
    "### By Reference/Value"
   ]
  },
  {
   "cell_type": "markdown",
   "metadata": {},
   "source": [
    "As you might know you can assign values of one variable to an other like:"
   ]
  },
  {
   "cell_type": "code",
   "execution_count": null,
   "metadata": {
    "collapsed": false
   },
   "outputs": [],
   "source": [
    "A = [5]\n",
    "B = A\n",
    "print B"
   ]
  },
  {
   "cell_type": "markdown",
   "metadata": {},
   "source": [
    "but if you change the value of variable A as it is done blow, variable B changes, too. "
   ]
  },
  {
   "cell_type": "code",
   "execution_count": null,
   "metadata": {
    "collapsed": false
   },
   "outputs": [],
   "source": [
    "A[0] = 1\n",
    "print B"
   ]
  },
  {
   "cell_type": "markdown",
   "metadata": {},
   "source": [
    "The problem is that variables are just names referring to an object. Assigning the object of a variable to an other does not create a copy of this object. It creates a new variable B which refers to the same object A refers to. Hence, there is only one object but two variables are referring to this one. This holds only for mutable objects like lists, sets, dictionaries and so on.\n",
    "\n",
    "There are also immutable objects like inits, floats, strings, tuple and so on. "
   ]
  },
  {
   "cell_type": "code",
   "execution_count": null,
   "metadata": {
    "collapsed": false
   },
   "outputs": [],
   "source": [
    "A = 1\n",
    "B = A\n",
    "A += 1\n",
    "print b"
   ]
  },
  {
   "cell_type": "markdown",
   "metadata": {},
   "source": [
    "The difference in this example is, that we are not incrementing the value of A, but instead we are creating a new object and assigning this new object to our variable A. After this we have two objects the Integer 1 and the Integer 2 and two variables B and A referring to the objects, respectively.\n",
    "\n",
    "Some operations change the object instead creating a copy of the object assigned to a variable."
   ]
  },
  {
   "cell_type": "code",
   "execution_count": null,
   "metadata": {
    "collapsed": false
   },
   "outputs": [],
   "source": [
    "A = [[2,3,1]]\n",
    "B = A\n",
    "A[0].append(4)\n",
    "print B\n",
    "A[0].sort()\n",
    "print B"
   ]
  },
  {
   "cell_type": "markdown",
   "metadata": {},
   "source": [
    "However, some operations directly create new objects."
   ]
  },
  {
   "cell_type": "code",
   "execution_count": null,
   "metadata": {
    "collapsed": false
   },
   "outputs": [],
   "source": [
    "A = [[2,3,1]]\n",
    "B = A\n",
    "A = A + [4]\n",
    "print B\n",
    "sorted(A[0])\n",
    "print B"
   ]
  },
  {
   "cell_type": "markdown",
   "metadata": {},
   "source": [
    "So we end up with two objects and two variables referring to these objects, respectively.\n",
    "\n",
    "But we have to pay attention when we use operations like +=. The behaviour of this kind of operations depends on the object it is applied on."
   ]
  },
  {
   "cell_type": "code",
   "execution_count": null,
   "metadata": {
    "collapsed": false
   },
   "outputs": [],
   "source": [
    "A = ((1,2,3))  # assigning a immutable tuple object to A\n",
    "B = A\n",
    "A += (3,4,5)\n",
    "print \"A: \", A\n",
    "print \"B: \", B"
   ]
  },
  {
   "cell_type": "markdown",
   "metadata": {},
   "source": [
    "If we apply this operation on a variable referring to an immutable object - a new object is created, but if we apply this to an object referring to a mutable object like lists, sets and so on we are just changing the object."
   ]
  },
  {
   "cell_type": "code",
   "execution_count": null,
   "metadata": {
    "collapsed": false
   },
   "outputs": [],
   "source": [
    "A = [1,2,3]  # assigning a mutable list object to A\n",
    "B = A\n",
    "A += [1]\n",
    "print \"A: \", A\n",
    "print \"B: \", B"
   ]
  },
  {
   "cell_type": "markdown",
   "metadata": {},
   "source": [
    "In this case the += operation on a list is equivalent to the A.extend([1]) operation."
   ]
  },
  {
   "cell_type": "markdown",
   "metadata": {},
   "source": [
    "###copy"
   ]
  },
  {
   "cell_type": "markdown",
   "metadata": {},
   "source": [
    "The copy operation can be used to make copies of an object. Like"
   ]
  },
  {
   "cell_type": "code",
   "execution_count": null,
   "metadata": {
    "collapsed": false
   },
   "outputs": [],
   "source": [
    "import copy\n",
    "A = [5]\n",
    "B = copy.copy(A)\n",
    "A[0] = 1\n",
    "print \"A: \", A\n",
    "print \"B: \", B"
   ]
  },
  {
   "cell_type": "markdown",
   "metadata": {},
   "source": [
    "The copy operation creates a copy of the object (in this case a list) assigned to variable A and set references of the inner objects. The inner object (integer 1) is immutable, hence, the variable B will not change if we change A. But if we have something like "
   ]
  },
  {
   "cell_type": "code",
   "execution_count": null,
   "metadata": {
    "collapsed": false
   },
   "outputs": [],
   "source": [
    "A = [[5]]\n",
    "B = copy.copy(A)\n",
    "A[0][0] = 1\n",
    "print \"A: \", A\n",
    "print \"B: \", B"
   ]
  },
  {
   "cell_type": "markdown",
   "metadata": {},
   "source": [
    "We will change variable B if we change the inner object of variable A. This is because we have a copy of the first object (outer list) and just set a reference of the inner object. This brings us back to the problem we discussed above."
   ]
  },
  {
   "cell_type": "markdown",
   "metadata": {},
   "source": [
    "### Deepcopy"
   ]
  },
  {
   "cell_type": "markdown",
   "metadata": {},
   "source": [
    "To avoid this we have the possibility to make a deepcopy of our object assigned to a variable."
   ]
  },
  {
   "cell_type": "code",
   "execution_count": null,
   "metadata": {
    "collapsed": false
   },
   "outputs": [],
   "source": [
    "import copy\n",
    "A = [[5]]\n",
    "B = copy.deepcopy(A)\n",
    "A[0][0] = 1\n",
    "print \"A: \", A\n",
    "print \"B: \", B"
   ]
  },
  {
   "cell_type": "markdown",
   "metadata": {},
   "source": [
    "With this operation we are creating a new object of the first object and for all nested objects, too. This means that the entire structure is copied and we end up with two objects (containing arbitray nested objects) assigned to two variables."
   ]
  }
 ],
 "metadata": {
  "celltoolbar": "Slideshow",
  "kernelspec": {
   "display_name": "Python 2",
   "language": "python",
   "name": "python2"
  },
  "language_info": {
   "codemirror_mode": {
    "name": "ipython",
    "version": 2
   },
   "file_extension": ".py",
   "mimetype": "text/x-python",
   "name": "python",
   "nbconvert_exporter": "python",
   "pygments_lexer": "ipython2",
   "version": "2.7.6"
  }
 },
 "nbformat": 4,
 "nbformat_minor": 0
}
