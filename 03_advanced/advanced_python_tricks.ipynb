{
 "cells": [
  {
   "cell_type": "markdown",
   "metadata": {
    "slideshow": {
     "slide_type": "slide"
    }
   },
   "source": [
    "# Retrospective  \n",
    "\n",
    "- Interpreter\n",
    "- Basic Calculations\n",
    "- Data Structures\n",
    "- Control flow\n",
    "- Functions\n",
    "- Documentation\n",
    "- Objects\n",
    "- Modules"
   ]
  },
  {
   "cell_type": "markdown",
   "metadata": {
    "slideshow": {
     "slide_type": "slide"
    }
   },
   "source": [
    "# Packages\n",
    "\n",
    "Packages are folders containing Modules. If you are lucky, these modules also work together in a way. The folder needs to contain an `__init__.py` file that will tell python what to do with the package."
   ]
  },
  {
   "cell_type": "markdown",
   "metadata": {
    "slideshow": {
     "slide_type": "fragment"
    }
   },
   "source": [
    "## Pypi\n",
    "\n",
    "Python has a very active development community and the [**Py**thon **p**ackage **i**ndex](www.pypi.python.org) contains a myriad of packages for every need."
   ]
  },
  {
   "cell_type": "markdown",
   "metadata": {
    "slideshow": {
     "slide_type": "fragment"
    }
   },
   "source": [
    "These can be install by using `pip` which is installed with newer python versions:\n",
    "```\n",
    "pip install numpy\n",
    "```"
   ]
  },
  {
   "cell_type": "markdown",
   "metadata": {
    "slideshow": {
     "slide_type": "slide"
    }
   },
   "source": [
    "# Object Orientation\n",
    "\n",
    "![](http://www.codercaste.com/wp-content/uploads/2011/01/animals.png)"
   ]
  },
  {
   "cell_type": "markdown",
   "metadata": {
    "slideshow": {
     "slide_type": "subslide"
    }
   },
   "source": [
    "# Programming Paradigms\n",
    "\n",
    "![](http://academic.udayton.edu/SaverioPerugini/courses/cps343/lecture_notes/images/summary.png)"
   ]
  },
  {
   "cell_type": "markdown",
   "metadata": {
    "slideshow": {
     "slide_type": "slide"
    }
   },
   "source": [
    "# Object orientation in Python\n",
    "\n",
    "- everything is a object (even functions)\n",
    "\n",
    "You can define your own objects by using the `class` keyword:"
   ]
  },
  {
   "cell_type": "code",
   "execution_count": null,
   "metadata": {
    "collapsed": false,
    "slideshow": {
     "slide_type": "fragment"
    }
   },
   "outputs": [],
   "source": [
    "class Dog(object):\n",
    "    color = \"yellow\"\n",
    "    def __init__(self, name):\n",
    "            self.name = name\n",
    "            \n",
    "Dog"
   ]
  },
  {
   "cell_type": "markdown",
   "metadata": {
    "slideshow": {
     "slide_type": "subslide"
    }
   },
   "source": [
    "# Instances\n",
    "\n",
    "Classes can be used to create objects with certain attributes and behavior:"
   ]
  },
  {
   "cell_type": "code",
   "execution_count": null,
   "metadata": {
    "collapsed": false,
    "slideshow": {
     "slide_type": "fragment"
    }
   },
   "outputs": [],
   "source": [
    "class Dog(object):\n",
    "    color = \"yellow\"\n",
    "    def __init__(self, name, size):\n",
    "            self.name = name\n",
    "            self.size = size\n",
    "\n",
    "Dog(\"blitzer\", 100)"
   ]
  },
  {
   "cell_type": "markdown",
   "metadata": {
    "slideshow": {
     "slide_type": "subslide"
    }
   },
   "source": [
    "# Inheritance\n",
    "\n",
    "Classes can take inherit traits (and even **skills**) from other classes:"
   ]
  },
  {
   "cell_type": "code",
   "execution_count": null,
   "metadata": {
    "collapsed": true,
    "slideshow": {
     "slide_type": "fragment"
    }
   },
   "outputs": [],
   "source": [
    "class Dachshund(dog):\n",
    "    color = \"brownish\"\n",
    "    def __init__(self, name):\n",
    "        super(dachs, self).__init__(name, 20)\n",
    "        \n",
    "b = Dachshund()"
   ]
  },
  {
   "cell_type": "markdown",
   "metadata": {},
   "source": [
    "# Further Tricks"
   ]
  },
  {
   "cell_type": "markdown",
   "metadata": {},
   "source": [
    "## Copy"
   ]
  },
  {
   "cell_type": "markdown",
   "metadata": {},
   "source": [
    "### By Reference/Value"
   ]
  },
  {
   "cell_type": "markdown",
   "metadata": {},
   "source": [
    "As you might know you can assign values of one variable to an other like:"
   ]
  },
  {
   "cell_type": "code",
   "execution_count": 21,
   "metadata": {
    "collapsed": false
   },
   "outputs": [
    {
     "name": "stdout",
     "output_type": "stream",
     "text": [
      "[5]\n"
     ]
    }
   ],
   "source": [
    "A = [5]\n",
    "B = A\n",
    "print B"
   ]
  },
  {
   "cell_type": "markdown",
   "metadata": {},
   "source": [
    "but if you change the first value of variable A as it is done blow, variable B changes, too. "
   ]
  },
  {
   "cell_type": "code",
   "execution_count": 20,
   "metadata": {
    "collapsed": false
   },
   "outputs": [
    {
     "name": "stdout",
     "output_type": "stream",
     "text": [
      "[1]\n"
     ]
    }
   ],
   "source": [
    "A[0] = 1\n",
    "print B"
   ]
  },
  {
   "cell_type": "markdown",
   "metadata": {},
   "source": [
    "But why does this happens?\n",
    "The problem is that variables are just names referring to an object. Assigning the object of a variable to an other does not create a copy of the object. It creates a new variable B which refers to the same object A refers to. Hence, there is only one object but two variables are referring to this one. This holds only for mutable objects like lists, sets, dictionaries and so on.\n",
    "\n",
    "There are also immutable objects like inits, floats, strings, tuple and so on. "
   ]
  },
  {
   "cell_type": "code",
   "execution_count": 22,
   "metadata": {
    "collapsed": false
   },
   "outputs": [
    {
     "name": "stdout",
     "output_type": "stream",
     "text": [
      "1\n"
     ]
    }
   ],
   "source": [
    "A = 1\n",
    "B = A\n",
    "A += 1\n",
    "print b"
   ]
  },
  {
   "cell_type": "markdown",
   "metadata": {},
   "source": [
    "The difference is, that we are not incrementing the value of A, but instead we are creating a new object and assigning this new object to our variable A. After this we have to objects the integer 1 and the integer 2 and two variables B and A referring to the objects respectively.\n",
    "\n",
    "There are some operations like"
   ]
  },
  {
   "cell_type": "code",
   "execution_count": 24,
   "metadata": {
    "collapsed": false
   },
   "outputs": [
    {
     "name": "stdout",
     "output_type": "stream",
     "text": [
      "[[2, 3, 1, 4]]\n",
      "[[1, 2, 3, 4]]\n"
     ]
    }
   ],
   "source": [
    "A = [[2,3,1]]\n",
    "B = A\n",
    "A[0].append(4)\n",
    "print B\n",
    "A[0].sort()\n",
    "print B"
   ]
  },
  {
   "cell_type": "markdown",
   "metadata": {},
   "source": [
    "These operations are just changing the object and do not create a copy. However, there are also operations like"
   ]
  },
  {
   "cell_type": "code",
   "execution_count": 37,
   "metadata": {
    "collapsed": false
   },
   "outputs": [
    {
     "name": "stdout",
     "output_type": "stream",
     "text": [
      "B after adding [4] to A:  [[2, 3, 1]]\n",
      "B after sorting operation of A [[2, 3, 1]]\n"
     ]
    }
   ],
   "source": [
    "A = [[2,3,1]]\n",
    "B = A\n",
    "A = A + [4]\n",
    "print B\n",
    "sorted(A[0])\n",
    "print B"
   ]
  },
  {
   "cell_type": "markdown",
   "metadata": {},
   "source": [
    "These operations are creating new objects. So we end up with two objects and two variables referring to these objects respectively.\n",
    "\n",
    "But we have to pay attention if we are using the += operation. The behaviour of this operation depends on the object we apply it on."
   ]
  },
  {
   "cell_type": "code",
   "execution_count": 39,
   "metadata": {
    "collapsed": false
   },
   "outputs": [
    {
     "name": "stdout",
     "output_type": "stream",
     "text": [
      "(1, 2, 3)\n"
     ]
    }
   ],
   "source": [
    "A = ((1,2,3))  # assigning a immutable tuple object to A\n",
    "B = A\n",
    "A += (3,4,5)\n",
    "print B"
   ]
  },
  {
   "cell_type": "markdown",
   "metadata": {},
   "source": [
    "If we apply this operation on a variable referring to a immutable object a new object is created, but if we apply this to an object referring to a mutable object like lists, sets and so on we are changing the object."
   ]
  },
  {
   "cell_type": "code",
   "execution_count": 41,
   "metadata": {
    "collapsed": false
   },
   "outputs": [
    {
     "name": "stdout",
     "output_type": "stream",
     "text": [
      "[1, 2, 3, 1]\n"
     ]
    }
   ],
   "source": [
    "A = [1,2,3]  # a mutable list object to A\n",
    "B = A\n",
    "A += [1]\n",
    "print B"
   ]
  },
  {
   "cell_type": "markdown",
   "metadata": {},
   "source": [
    "The += opertion on a list is equivalent with the A.extend([1]) operation."
   ]
  },
  {
   "cell_type": "markdown",
   "metadata": {},
   "source": [
    "###copy"
   ]
  },
  {
   "cell_type": "markdown",
   "metadata": {},
   "source": [
    "By using the copy operation you can make copies of an object. Like"
   ]
  },
  {
   "cell_type": "code",
   "execution_count": 43,
   "metadata": {
    "collapsed": false
   },
   "outputs": [
    {
     "name": "stdout",
     "output_type": "stream",
     "text": [
      "[5]\n"
     ]
    }
   ],
   "source": [
    "import copy\n",
    "A = [5]\n",
    "B = copy.copy(A)\n",
    "A[0] = 1\n",
    "print B"
   ]
  },
  {
   "cell_type": "markdown",
   "metadata": {},
   "source": [
    "This operation creates a copy of the first object (in this case a list) and set references to the inner objects. Hence, the inner object (integer 1) are immutable the Variable B will not change. But if we have something like "
   ]
  },
  {
   "cell_type": "code",
   "execution_count": 44,
   "metadata": {
    "collapsed": false
   },
   "outputs": [
    {
     "name": "stdout",
     "output_type": "stream",
     "text": [
      "[[1]]\n"
     ]
    }
   ],
   "source": [
    "A = [[5]]\n",
    "B = copy.copy(A)\n",
    "A[0][0] = 1\n",
    "print B"
   ]
  },
  {
   "cell_type": "markdown",
   "metadata": {},
   "source": [
    "We change variable B. This is because we just have a copy of the first object (outer list) and set a reference to the inner object. This brings us back to the problem we discussed above."
   ]
  },
  {
   "cell_type": "markdown",
   "metadata": {},
   "source": [
    "### Deepcopy"
   ]
  },
  {
   "cell_type": "markdown",
   "metadata": {},
   "source": [
    "To avoid this we have the possibility to make a deepcopy of our object assigned to a variable."
   ]
  },
  {
   "cell_type": "code",
   "execution_count": 46,
   "metadata": {
    "collapsed": false
   },
   "outputs": [
    {
     "name": "stdout",
     "output_type": "stream",
     "text": [
      "[[5]]\n"
     ]
    }
   ],
   "source": [
    "import copy\n",
    "a = [[5]]\n",
    "b = copy.deepcopy(a)\n",
    "a[0][0] = 1\n",
    "print b"
   ]
  },
  {
   "cell_type": "markdown",
   "metadata": {},
   "source": [
    "With this operation we are creating a new object of the first object and for all objects nested objects, too."
   ]
  }
 ],
 "metadata": {
  "celltoolbar": "Slideshow",
  "kernelspec": {
   "display_name": "Python 2",
   "language": "python",
   "name": "python2"
  },
  "language_info": {
   "codemirror_mode": {
    "name": "ipython",
    "version": 2
   },
   "file_extension": ".py",
   "mimetype": "text/x-python",
   "name": "python",
   "nbconvert_exporter": "python",
   "pygments_lexer": "ipython2",
   "version": "2.7.6"
  }
 },
 "nbformat": 4,
 "nbformat_minor": 0
}
