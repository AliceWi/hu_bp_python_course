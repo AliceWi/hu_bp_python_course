{
 "cells": [
  {
   "cell_type": "markdown",
   "metadata": {},
   "source": [
    "# Rock, Paper, Scissors - Solution\n",
    "### By Jens Hahn"
   ]
  },
  {
   "cell_type": "code",
   "execution_count": null,
   "metadata": {
    "collapsed": false
   },
   "outputs": [],
   "source": [
    "import random\n",
    "\n",
    "def scrls():\n",
    "    scissors = {'rock': False, 'paper': True, 'lizard': True, 'spock':False}\n",
    "    rock = {'scissors': True, 'paper': False, 'lizard': True, 'spock':False}\n",
    "    paper = {'scissors': False, 'rock': True, 'lizard': False, 'spock':True}\n",
    "    lizard = {'scissors': False, 'paper': True, 'rock': False, 'spock':True}\n",
    "    spock = {'rock': True, 'scissors': True, 'lizard': False, 'paper':False}\n",
    "    \n",
    "    erg = {'scissors': scissors, 'rock': rock, 'paper': paper, 'lizard': lizard, 'spock': spock}\n",
    "    \n",
    "    # human choice\n",
    "    answer = raw_input(\"rock, paper, scissors, lizard, or spock? \")\n",
    "\n",
    "    # computer choice\n",
    "    rand = random.randint(1, 5)\n",
    "    computer_choice = {1: 'rock', 2: 'paper', 3:'scissors', 4:'lizard', 5:'spock'}\n",
    "    comp_ans = computer_choice[rand]\n",
    "\n",
    "    # results\n",
    "    if answer == comp_ans:\n",
    "        print 'tied game'\n",
    "    else:\n",
    "        if erg[answer][comp_ans]:\n",
    "            print 'you won'\n",
    "        else:\n",
    "            print 'Computer has ' + comp_ans\n",
    "            print 'you loose'\n",
    "\n",
    "    new_game = raw_input(\"another game? \")\n",
    "    if new_game == 'yes':\n",
    "        scrls()\n",
    "\n",
    "if __name__ == \"__main__\":\n",
    "    scrls()"
   ]
  },
  {
   "cell_type": "code",
   "execution_count": null,
   "metadata": {
    "collapsed": false
   },
   "outputs": [],
   "source": [
    "import random\n",
    "\n",
    "class sprls:\n",
    "    def __init__(self):\n",
    "        self.play()\n",
    "            \n",
    "    def play(self):\n",
    "        humans = self.humanChoice()\n",
    "        humans = self.testInput(humans)\n",
    "        compans = self.computerChoice()\n",
    "        res = self.findWinner(humans, compans)\n",
    "        self.tellUserResult(res)\n",
    "        self.askForAnotherGame()\n",
    "        \n",
    "    def testInput(self, humans):\n",
    "        possible_answers = ['rock', 'paper', 'scissors', 'lizard', 'spock']\n",
    "        if humans not in possible_answers:\n",
    "            print \"invalid answer, try again: \"\n",
    "            humans = self.humanChoice()\n",
    "        return humans\n",
    "    \n",
    "    def humanChoice(self):\n",
    "        answer = raw_input(\"rock, paper, scissors, lizard, or spock? \")\n",
    "        return answer\n",
    "    \n",
    "    def computerChoice(self):\n",
    "        rand = random.randint(1, 5)\n",
    "        computer_choice = {1: 'rock', 2: 'paper', 3:'scissors', 4:'lizard', 5:'spock'}\n",
    "        comp_ans = computer_choice[rand]\n",
    "        return comp_ans\n",
    "    \n",
    "    def findWinner(self, answer, comp_ans):\n",
    "        scissors = {'rock': False, 'paper': True, 'lizard': True, 'spock':False}\n",
    "        rock = {'scissors': True, 'paper': False, 'lizard': True, 'spock':False}\n",
    "        paper = {'scissors': False, 'rock': True, 'lizard': False, 'spock':True}\n",
    "        lizard = {'scissors': False, 'paper': True, 'rock': False, 'spock':True}\n",
    "        spock = {'rock': True, 'scissors': True, 'lizard': False, 'paper':False}\n",
    "\n",
    "        erg = {'scissors': scissors, 'rock': rock, 'paper': paper, 'lizard': lizard, 'spock': spock}\n",
    "    \n",
    "        if answer == comp_ans:\n",
    "            result = 'tied game'\n",
    "        else:\n",
    "            if erg[answer][comp_ans]:\n",
    "                result = 'you won'\n",
    "            else:\n",
    "                result = 'Computer has ' + comp_ans + '\\nyou loose'\n",
    "        \n",
    "        return result\n",
    "    \n",
    "    def tellUserResult(self, result):\n",
    "        print result\n",
    "        \n",
    "    def askForAnotherGame(self):\n",
    "        new_game = raw_input(\"another game? \")\n",
    "        if new_game == 'yes':\n",
    "            self.play()"
   ]
  },
  {
   "cell_type": "code",
   "execution_count": null,
   "metadata": {
    "collapsed": false
   },
   "outputs": [],
   "source": [
    "spiel = sprls()"
   ]
  },
  {
   "cell_type": "code",
   "execution_count": null,
   "metadata": {
    "collapsed": true
   },
   "outputs": [],
   "source": []
  }
 ],
 "metadata": {
  "kernelspec": {
   "display_name": "Python 2",
   "language": "python",
   "name": "python2"
  },
  "language_info": {
   "codemirror_mode": {
    "name": "ipython",
    "version": 2
   },
   "file_extension": ".py",
   "mimetype": "text/x-python",
   "name": "python",
   "nbconvert_exporter": "python",
   "pygments_lexer": "ipython2",
   "version": "2.7.9"
  }
 },
 "nbformat": 4,
 "nbformat_minor": 0
}
