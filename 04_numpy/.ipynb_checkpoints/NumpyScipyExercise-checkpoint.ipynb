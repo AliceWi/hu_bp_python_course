{
 "cells": [
  {
   "cell_type": "markdown",
   "metadata": {},
   "source": [
    "# Exercise Numpy/Scipy"
   ]
  },
  {
   "cell_type": "markdown",
   "metadata": {},
   "source": [
    "### 1. Basics\n",
    "1. generate a 1-vector of size 10\n",
    "2. generate a zero-matrix of size 4x3\n",
    "3. generate a 3x3 identity matrix\n",
    "4. contruct a vector of length 100 with alternating ones and zeros ( hint: use slice indexing )\n",
    "5. construct a 8x8 matrix with a checkboard pattern of zeros and ones\n",
    "6. create a random vector of size 100 and sort it\n",
    "7. compute the inverse, eigenvectors and eigenvalues of the following matrix:\n",
    "$$\\mathbf{A} = \\left[\\begin{array}\n",
    "{rrr}\n",
    "1 & 2 & 3 \\\\\n",
    "4 & 5 & 6 \\\\\n",
    "7 & 8 & 9\n",
    "\\end{array}\\right]\n",
    "$$\n"
   ]
  },
  {
   "cell_type": "code",
   "execution_count": 8,
   "metadata": {
    "collapsed": false
   },
   "outputs": [],
   "source": [
    "import numpy as np\n",
    "import scipy as sp"
   ]
  },
  {
   "cell_type": "code",
   "execution_count": 134,
   "metadata": {
    "collapsed": false,
    "scrolled": true
   },
   "outputs": [
    {
     "name": "stdout",
     "output_type": "stream",
     "text": [
      "[0 1 2 3 4 5 6 7 8 9]\n",
      "[[ 0.  0.  0.]\n",
      " [ 0.  0.  0.]\n",
      " [ 0.  0.  0.]\n",
      " [ 0.  0.  0.]]\n",
      "[  5   8  10  10  25  27  41  44  46  51  56  62  66  69  83 116 116 116\n",
      " 119 145 146 163 163 166 170 174 206 209 211 214 219 226 231 249 261 264\n",
      " 270 281 284 297 312 318 327 330 362 379 401 403 409 413 476 485 493 505\n",
      " 545 548 549 569 593 596 616 621 628 629 630 675 682 685 689 695 711 720\n",
      " 722 733 757 758 759 764 773 777 779 783 785 813 824 839 861 891 893 894\n",
      " 897 897 899 916 940 942 956 959 965 968]\n",
      "[[1 2 3]\n",
      " [4 5 6]\n",
      " [7 8 9]]\n",
      "(array([  1.61168440e+01,  -1.11684397e+00,  -1.30367773e-15]), array([[-0.23197069, -0.78583024,  0.40824829],\n",
      "       [-0.52532209, -0.08675134, -0.81649658],\n",
      "       [-0.8186735 ,  0.61232756,  0.40824829]]))\n",
      "[[ -4.50359963e+15   9.00719925e+15  -4.50359963e+15]\n",
      " [  9.00719925e+15  -1.80143985e+16   9.00719925e+15]\n",
      " [ -4.50359963e+15   9.00719925e+15  -4.50359963e+15]]\n"
     ]
    }
   ],
   "source": [
    "v = np.array(range(10), int)\n",
    "print v\n",
    "print np.zeros((4,3))\n",
    "Id = np.identity(3)\n",
    "Id\n",
    "a = np.array( range(100) )\n",
    "a[1::2] = 0\n",
    "a[0::2] = 1\n",
    "a\n",
    "x = np.zeros((8,8))\n",
    "x[1::2,1::2] = 1\n",
    "x[0::2,0::2] = 1\n",
    "x\n",
    "w = np.random.randint(0,1000,100)\n",
    "w.sort(axis=-1)\n",
    "print w\n",
    "A=np.array([[1,2,3],[4,5,6],[7,8,9]])\n",
    "print A\n",
    "e = np.linalg.eig(A) # eigenvalues and eigenvectors\n",
    "i = np.linalg.inv(A) # matrix inverse\n",
    "print e\n",
    "print i"
   ]
  },
  {
   "cell_type": "markdown",
   "metadata": {},
   "source": [
    "### 2. Solving ordinary differential equations (ODEs) using scipy\n",
    "\n",
    "Consider the following hypothetical reaction system which was first proposed by Alfred J. Lotka (Lotka-Voltera System):\n",
    "$$ \\begin{align} \n",
    "r1:& \\;\\; X \\rightarrow 2 X \\\\ \n",
    "r2:& \\;\\; X + Y \\rightarrow 2 Y \\\\\n",
    "r3:& \\;\\; Y \\rightarrow \\varnothing \n",
    "\\end{align} $$\n",
    "\n",
    "1. set up the stoichiometric matrix of the system (this can be done without Python)\n",
    "2. the rate of change of the species participating in a reaction system can be written as\n",
    "$$ \\frac {dS} {dt} = N \\cdot v(S,p) $$\n",
    "with the vector of species concentrations $S$, the stoichiometric matrix N and the vector of reaction velocities $v(S,p)$ ($p$ denotes a vector of parmameters)\n",
    "define a function `dSdt( S, t )` which computes the rate of change for each species, given the vector of current species concentrations $S$ and the current time $t$. Assume that all reactions follow irreversible mass-action kinetics with parameters $k_1 = 1.5$, $k_2 = 0.8 $ and $k_3 = 0.9$, each equal to \n",
    "3. Use the scipy ODE integrator scipy.integrate.odeint to solve the reaction system numerically on the time interval $t \\in [0, 30]$ using the following initial conditions: $X(0)= Y(0) = 1$"
   ]
  },
  {
   "cell_type": "code",
   "execution_count": 164,
   "metadata": {
    "collapsed": false
   },
   "outputs": [
    {
     "data": {
      "text/plain": [
       "[<matplotlib.lines.Line2D at 0x1098fa0d0>]"
      ]
     },
     "execution_count": 164,
     "metadata": {},
     "output_type": "execute_result"
    },
    {
     "data": {
      "image/png": "[encoded data removed]",
      "text/plain": [
       "<matplotlib.figure.Figure at 0x109173f10>"
      ]
     },
     "metadata": {},
     "output_type": "display_data"
    }
   ],
   "source": [
    "import scipy.integrate\n",
    "from matplotlib import pyplot as plt\n",
    "plt.style.use('ggplot')\n",
    "%matplotlib inline\n",
    "\n",
    "N = np.array([[1,-1,0],[0,1,-1]],int)\n",
    "p = np.array([1.5, 0.8, 0.9], float)\n",
    "S_x = 1\n",
    "S_y = 1\n",
    "S = np.array([S_x, S_x*S_y, S_y], float)\n",
    "v= p*S\n",
    "\n",
    "def dSdt( S, t ):\n",
    "    return np.dot(N,v)\n",
    "\n",
    "S0=0\n",
    "time = np.arange(0,30,1)\n",
    "\n",
    "import scipy.integrate\n",
    "\n",
    "result = scipy.integrate.odeint(dSdt, S0, time )\n",
    "\n",
    "plt.plot( time, result)\n"
   ]
  },
  {
   "cell_type": "markdown",
   "metadata": {},
   "source": [
    "### 3. Parameter fitting\n",
    "\n",
    "You have been provided with an experimenal time-course measurement of the X and Y species (pickled object `experimental_data.p`). The data has the form of a numpy array with the first column representing the experimental time (in seconds), column 2 the measurement of X (in mM) and column 3 Y.\n",
    "\n",
    "* modify the `dSdt` function from above, such that a parameter vector `p`$= [k1, k2, k3]$ can be passed in addition to `S` and `t`\n",
    "\n",
    "* define an objective function `obj_fct( p, S_exp, t_exp )` which computes the squared distance between the experimental data and a model simulation for the parameters `p`$= [k1, k2, k3]$ for the time point vector `t_exp` (assume that the initial conditions are known and as defined above), (hint: additional arguments can be passed to the function integrated by `scipy.optimize.odeint` using the `args = (p,)` argument. Dont forget the comma in the tuple!\n",
    "\n",
    "* try to identify the parameters of the reaction system using this objective function and the `sicipy.optimize.fmin` minimization algorithm. Fit only parameters k2 and k3 and keep k1 at 1.5. Use the parameters given above as starting values.\n",
    "\n",
    "* plot a simulation of t"
   ]
  },
  {
   "cell_type": "code",
   "execution_count": 165,
   "metadata": {
    "collapsed": false
   },
   "outputs": [],
   "source": [
    "import pickle\n",
    "import scipy.optimize\n",
    "data = pickle.load(open('experimental_data.p'))"
   ]
  },
  {
   "cell_type": "code",
   "execution_count": null,
   "metadata": {
    "collapsed": true
   },
   "outputs": [],
   "source": []
  }
 ],
 "metadata": {
  "kernelspec": {
   "display_name": "Python 2",
   "language": "python",
   "name": "python2"
  },
  "language_info": {
   "codemirror_mode": {
    "name": "ipython",
    "version": 2
   },
   "file_extension": ".py",
   "mimetype": "text/x-python",
   "name": "python",
   "nbconvert_exporter": "python",
   "pygments_lexer": "ipython2",
   "version": "2.7.9"
  }
 },
 "nbformat": 4,
 "nbformat_minor": 0
}
