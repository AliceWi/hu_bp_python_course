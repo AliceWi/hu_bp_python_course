{
 "cells": [
  {
   "cell_type": "code",
   "execution_count": 1,
   "metadata": {
    "collapsed": true
   },
   "outputs": [],
   "source": [
    "sample_seq = unicode(\"AUGGUACCGGGAUUUCGCGGGAUUGUACAAAAAUACGUUUUGUACAUGUUGUGCUGUUACCACUGCAAAUACACUUGGUUUCAAACACUUCCAUAG\")"
   ]
  },
  {
   "cell_type": "code",
   "execution_count": 2,
   "metadata": {
    "collapsed": false
   },
   "outputs": [
    {
     "data": {
      "text/plain": [
       "u'AUGGUACCGGGAUUUCGCGGGAUUGUACAAAAAUACGUUUUGUACAUGUUGUGCUGUUACCACUGCAAAUACACUUGGUUUCAAACACUUCCAUAG'"
      ]
     },
     "execution_count": 2,
     "metadata": {},
     "output_type": "execute_result"
    }
   ],
   "source": [
    "sample_seq"
   ]
  },
  {
   "cell_type": "code",
   "execution_count": 3,
   "metadata": {
    "collapsed": true
   },
   "outputs": [],
   "source": [
    "??unicode"
   ]
  },
  {
   "cell_type": "code",
   "execution_count": 4,
   "metadata": {
    "collapsed": true
   },
   "outputs": [],
   "source": [
    "test = \"AUGGUACCGGGAUUUCGCGGGAUUGUACAAAAAUACGUUUUGUACAUGUUGUGCUGUUACCACUGCAAAUACACUUGGUUUCAAACACUUCCAUAG\""
   ]
  },
  {
   "cell_type": "code",
   "execution_count": 5,
   "metadata": {
    "collapsed": false
   },
   "outputs": [
    {
     "data": {
      "text/plain": [
       "'AUGGUACCGGGAUUUCGCGGGAUUGUACAAAAAUACGUUUUGUACAUGUUGUGCUGUUACCACUGCAAAUACACUUGGUUUCAAACACUUCCAUAG'"
      ]
     },
     "execution_count": 5,
     "metadata": {},
     "output_type": "execute_result"
    }
   ],
   "source": [
    "test"
   ]
  },
  {
   "cell_type": "code",
   "execution_count": 6,
   "metadata": {
    "collapsed": false
   },
   "outputs": [
    {
     "name": "stdout",
     "output_type": "stream",
     "text": [
      "96\n"
     ]
    }
   ],
   "source": [
    "print len(test)"
   ]
  },
  {
   "cell_type": "code",
   "execution_count": 7,
   "metadata": {
    "collapsed": false
   },
   "outputs": [
    {
     "name": "stdout",
     "output_type": "stream",
     "text": [
      "96\n"
     ]
    }
   ],
   "source": [
    "print len(sample_seq)"
   ]
  },
  {
   "cell_type": "code",
   "execution_count": 22,
   "metadata": {
    "collapsed": false
   },
   "outputs": [
    {
     "ename": "SyntaxError",
     "evalue": "invalid syntax (processes.py, line 67)",
     "output_type": "error",
     "traceback": [
      "\u001b[0;36m  File \u001b[0;32m\"processes.py\"\u001b[0;36m, line \u001b[0;32m67\u001b[0m\n\u001b[0;31m    <<<<<<< HEAD\u001b[0m\n\u001b[0m     ^\u001b[0m\n\u001b[0;31mSyntaxError\u001b[0m\u001b[0;31m:\u001b[0m invalid syntax\n"
     ]
    }
   ],
   "source": [
    "import molecules as mol\n",
    "import processes as proc\n",
    "\n",
    "class Model(object):\n",
    "    \"\"\"\n",
    "    Initializes the states and processes for the model and lets the processes update their corresponding states.\n",
    "    \"\"\"\n",
    "    def __init__(self):\n",
    "        self.states = {}\n",
    "        self.processes = {}\n",
    "\n",
    "        # initiate states\n",
    "        self.ribosomes = {'Ribosomes': mol.Ribosome('Ribosomes', 'Ribosomes', 1)}\n",
    "        mrna_list = [\"AUGGUACGUUUCUAG\", \"AUGGUACGUUUUUAG\", \"AUGUUUCGUUUCUAG\", sample_seq]\n",
    "        #mrna_list = [sample_seq]\n",
    "        print len(mrna_list)\n",
    "        self.mrnas = {'MRNA_{0}'.format(i): mol.MRNA(i, 'MRNA_{0}'.format(i), mrna_list[i]) for i in xrange(len(mrna_list))}\n",
    "\n",
    "        self.states.update(self.ribosomes)\n",
    "        self.states.update(self.mrnas)\n",
    "\n",
    "        # initiate processes\n",
    "        translation = proc.Translation(1, \"Translation\")\n",
    "        translation.set_states(self.mrnas.keys(), self.ribosomes.keys())\n",
    "        self.processes = {\"Translation\":translation}\n",
    "\n",
    "    def step(self):\n",
    "        \"\"\"\n",
    "        Do one update step for each process.\n",
    "        \"\"\"\n",
    "\n",
    "        for p in self.processes:\n",
    "            self.processes[p].update(self)\n",
    "\n",
    "    def simulate(self, steps, log=True):\n",
    "        \"\"\"\n",
    "        Simulate the model for some time.\n",
    "        \"\"\"\n",
    "        for s in xrange(steps):\n",
    "            self.step()\n",
    "        #     if log:     # This could be an entry point for further logging\n",
    "        #                 # print count of each protein to the screen\n",
    "        #         print '\\r{}'.format([len(self.states[x]) for x in self.states.keys() if \"Protein_\" in x]),\n",
    "            \n",
    "if __name__ == \"__main__\":\n",
    "    c = Model()\n",
    "    #c.simulate(100, log=True)\n",
    "    c.simulate(100, log=True)"
   ]
  },
  {
   "cell_type": "code",
   "execution_count": 14,
   "metadata": {
    "collapsed": false
   },
   "outputs": [],
   "source": [
    "import random\n",
    "import molecules\n",
    "import numpy.random as npr\n",
    "\n",
    "\n",
    "class Process(object):\n",
    "    \"\"\"\n",
    "    Parent for all cellular processes.\n",
    "    \"\"\"\n",
    "    def __init__(self, id, name):\n",
    "        self.id = id\n",
    "        self.name = name\n",
    "\n",
    "\n",
    "        self.enzyme_ids = []\n",
    "        self.substrate_ids = []\n",
    "\n",
    "    def set_states(self, substrate_ids, enzyme_ids):\n",
    "        self.enzyme_ids = enzyme_ids\n",
    "        self.substrate_ids = substrate_ids\n",
    "\n",
    "    def update(self, model): #hier ist ein sinnloser Kommentar\n",
    "        \"\"\"\n",
    "        Has to be implemented by child class.\n",
    "        \"\"\"\n",
    "        pass\n",
    "\n",
    "\n",
    "class Translation(Process):\n",
    "    \"\"\"\n",
    "    Translation is instantiated in the Cell to produce proteins.\n",
    "    Defines Translation process. It iterates over all ribosomes and decides what\n",
    "    they should do. They either bind to mRNA or elongate/terminate a protein if\n",
    "    they are already bound.\n",
    "    \"\"\"\n",
    "    code = dict([('UCA', 'S'), ('UCG', 'S'), ('UCC', 'S'), ('UCU', 'S'),\n",
    "                 ('UUU', 'F'), ('UUC', 'F'), ('UUA', 'L'), ('UUG', 'L'),\n",
    "                 ('UAU', 'Y'), ('UAC', 'Y'), ('UAA', '*'), ('UAG', '*'),\n",
    "                 ('UGU', 'C'), ('UGC', 'C'), ('UGA', '*'), ('UGG', 'W'),\n",
    "                 ('CUA', 'L'), ('CUG', 'L'), ('CUC', 'L'), ('CUU', 'L'),\n",
    "                 ('CCA', 'P'), ('CCG', 'P'), ('CCC', 'P'), ('CCU', 'P'),\n",
    "                 ('CAU', 'H'), ('CAC', 'H'), ('CAA', 'Q'), ('CAG', 'Q'),\n",
    "                 ('CGA', 'R'), ('CGG', 'R'), ('CGC', 'R'), ('CGU', 'R'),\n",
    "                 ('AUU', 'I'), ('AUC', 'I'), ('AUA', 'I'), ('AUG', 'M'),\n",
    "                 ('ACA', 'T'), ('ACG', 'T'), ('ACC', 'T'), ('ACU', 'T'),\n",
    "                 ('AAU', 'N'), ('AAC', 'N'), ('AAA', 'K'), ('AAG', 'K'),\n",
    "                 ('AGU', 'S'), ('AGC', 'S'), ('AGA', 'R'), ('AGG', 'R'),\n",
    "                 ('GUA', 'V'), ('GUG', 'V'), ('GUC', 'V'), ('GUU', 'V'),\n",
    "                 ('GCA', 'A'), ('GCG', 'A'), ('GCC', 'A'), ('GCU', 'A'),\n",
    "                 ('GAU', 'D'), ('GAC', 'D'), ('GAA', 'E'), ('GAG', 'E'),\n",
    "                 ('GGA', 'G'), ('GGG', 'G'), ('GGC', 'G'), ('GGU', 'G')])\n",
    "\n",
    "    def __init__(self, id, name):\n",
    "        super(Translation, self).__init__(id, name)\n",
    "\n",
    "        # declare attributes\n",
    "        self.__ribsomes = []\n",
    "\n",
    "    def update(self, model):\n",
    "        \"\"\"\n",
    "        Update all mrnas and translate proteins.\n",
    "        \"\"\"\n",
    "\n",
    "        self.__ribosomes = model.states[self.enzyme_ids[0]]\n",
    "        for mrna_id in self.substrate_ids:\n",
    "            prot = None\n",
    "            mrna = model.states[mrna_id]\n",
    "            if not mrna.binding[0]:\n",
    "                self.initiate(mrna)\n",
    "            else:\n",
    "                prot = self.elongate(mrna)\n",
    "            if isinstance(prot, molecules.Protein):\n",
    "                if prot.id in model.states:\n",
    "                    model.states[prot.id].append(prot)\n",
    "                else:\n",
    "                    model.states[prot.id] = [prot]\n",
    "\n",
    "    def initiate(self, mrna):\n",
    "        \"\"\"\n",
    "        Try to bind to a given MRNA. Binding probability corresponds to the ribosome count.\n",
    "        @type mrna: MRNA\n",
    "        \"\"\"\n",
    "\n",
    "        if not mrna.binding[0]:  #  no mrna bound yet and target mrna still free at pos 0\n",
    "            # bind a nascent protein to the 0 codon\n",
    "            if npr.poisson(self.__ribosomes.count) > 1: # at least one binding event happens in time step\n",
    "                # if a ribosome binds the position a new Protein is created and stored on the\n",
    "                # position as if it were bound to the ribosome\n",
    "                mrna.binding[0] = molecules.Protein(\"Protein_{0}\".format(mrna.id),\n",
    "                                                     \"Protein_{0}\".format(mrna.id),\n",
    "                                                     self.code[mrna[0:3]])\n",
    "                self.__ribosomes.count -= 1\n",
    "\n",
    "    def elongate(self, mrna):\n",
    "        \"\"\"\n",
    "        Elongate the new protein by the correct amino acid. Check if an\n",
    "        MRNA is bound and if ribosome can move to next codon.\n",
    "        Terminate if the ribosome reaches a STOP codon.\n",
    "        @type return: Protein or False\n",
    "        \"\"\"\n",
    "\n",
    "        # TODO: this needs to update in a random order\n",
    "\n",
    "        for i, ribosome in enumerate(mrna.binding):\n",
    "            if isinstance(ribosome, molecules.Protein):\n",
    "                codon = mrna[i*3:i*3+3]\n",
    "                aa = self.code[codon]\n",
    "                if aa == \"*\":  # terminate at stop codon\n",
    "                    return self.terminate(mrna, i)\n",
    "\n",
    "                \n",
    "\n",
    "                if not mrna.binding[i + 1]:  # if the next rna position is free\n",
    "                    mrna.binding[i] + aa\n",
    "                    mrna.binding[i + 1] = mrna.binding[i]\n",
    "                    mrna.binding[i] = 0\n",
    "        return 0\n",
    "\n",
    "    def terminate(self, mrna, i):\n",
    "        \"\"\"\n",
    "        Splits the ribosome/MRNA complex and returns a protein.\n",
    "        @type mrna: MRNA\n",
    "        \"\"\"\n",
    "\n",
    "        protein = mrna.binding[i]  # bound mRNA\n",
    "        mrna.binding[i] = 0\n",
    "        self.__ribosomes.count += 1\n",
    "        print protein.sequence\n",
    "        return protein\n"
   ]
  },
  {
   "cell_type": "code",
   "execution_count": 16,
   "metadata": {
    "collapsed": false
   },
   "outputs": [
    {
     "ename": "AttributeError",
     "evalue": "'unicode' object has no attribute 'update'",
     "output_type": "error",
     "traceback": [
      "\u001b[0;31m---------------------------------------------------------------------------\u001b[0m",
      "\u001b[0;31mAttributeError\u001b[0m                            Traceback (most recent call last)",
      "\u001b[0;32m<ipython-input-16-aec3550abcc4>\u001b[0m in \u001b[0;36m<module>\u001b[0;34m()\u001b[0m\n\u001b[0;32m----> 1\u001b[0;31m \u001b[0msample_seq\u001b[0m\u001b[0;34m.\u001b[0m\u001b[0mupdate\u001b[0m\u001b[0;34m\u001b[0m\u001b[0m\n\u001b[0m",
      "\u001b[0;31mAttributeError\u001b[0m: 'unicode' object has no attribute 'update'"
     ]
    }
   ],
   "source": [
    "sample_seq.update"
   ]
  },
  {
   "cell_type": "code",
   "execution_count": 17,
   "metadata": {
    "collapsed": false
   },
   "outputs": [
    {
     "ename": "NameError",
     "evalue": "name 'mrna_list' is not defined",
     "output_type": "error",
     "traceback": [
      "\u001b[0;31m---------------------------------------------------------------------------\u001b[0m",
      "\u001b[0;31mNameError\u001b[0m                                 Traceback (most recent call last)",
      "\u001b[0;32m<ipython-input-17-6bdcd4942af6>\u001b[0m in \u001b[0;36m<module>\u001b[0;34m()\u001b[0m\n\u001b[0;32m----> 1\u001b[0;31m \u001b[0;32mprint\u001b[0m \u001b[0mmrna_list\u001b[0m\u001b[0;34m\u001b[0m\u001b[0m\n\u001b[0m",
      "\u001b[0;31mNameError\u001b[0m: name 'mrna_list' is not defined"
     ]
    }
   ],
   "source": [
    "print mrna_list"
   ]
  },
  {
   "cell_type": "code",
   "execution_count": 18,
   "metadata": {
    "collapsed": false
   },
   "outputs": [
    {
     "data": {
      "text/plain": [
       "u'AUGGUACCGGGAUUUCGCGGGAUUGUACAAAAAUACGUUUUGUACAUGUUGUGCUGUUACCACUGCAAAUACACUUGGUUUCAAACACUUCCAUAG'"
      ]
     },
     "execution_count": 18,
     "metadata": {},
     "output_type": "execute_result"
    }
   ],
   "source": [
    "sample_seq"
   ]
  },
  {
   "cell_type": "code",
   "execution_count": 19,
   "metadata": {
    "collapsed": true
   },
   "outputs": [],
   "source": [
    "mrna_list = [\"AUGGUACGUUUCUAG\", \"AUGGUACGUUUUUAG\", \"AUGUUUCGUUUCUAG\", sample_seq]"
   ]
  },
  {
   "cell_type": "code",
   "execution_count": 20,
   "metadata": {
    "collapsed": false
   },
   "outputs": [
    {
     "name": "stdout",
     "output_type": "stream",
     "text": [
      "['AUGGUACGUUUCUAG', 'AUGGUACGUUUUUAG', 'AUGUUUCGUUUCUAG', u'AUGGUACCGGGAUUUCGCGGGAUUGUACAAAAAUACGUUUUGUACAUGUUGUGCUGUUACCACUGCAAAUACACUUGGUUUCAAACACUUCCAUAG']\n"
     ]
    }
   ],
   "source": [
    "print mrna_list"
   ]
  },
  {
   "cell_type": "code",
   "execution_count": 21,
   "metadata": {
    "collapsed": false
   },
   "outputs": [
    {
     "name": "stdout",
     "output_type": "stream",
     "text": [
      "4\n"
     ]
    }
   ],
   "source": [
    "print len(mrna_list)"
   ]
  },
  {
   "cell_type": "code",
   "execution_count": 23,
   "metadata": {
    "collapsed": true
   },
   "outputs": [],
   "source": [
    "??isinstance"
   ]
  },
  {
   "cell_type": "code",
   "execution_count": null,
   "metadata": {
    "collapsed": true
   },
   "outputs": [],
   "source": []
  }
 ],
 "metadata": {
  "kernelspec": {
   "display_name": "Python 2",
   "language": "python",
   "name": "python2"
  },
  "language_info": {
   "codemirror_mode": {
    "name": "ipython",
    "version": 2
   },
   "file_extension": ".py",
   "mimetype": "text/x-python",
   "name": "python",
   "nbconvert_exporter": "python",
   "pygments_lexer": "ipython2",
   "version": "2.7.9"
  }
 },
 "nbformat": 4,
 "nbformat_minor": 0
}
